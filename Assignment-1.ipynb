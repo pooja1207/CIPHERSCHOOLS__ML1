{
 "cells": [
  {
   "cell_type": "markdown",
   "metadata": {},
   "source": [
    "# Assignment - 1"
   ]
  },
  {
   "cell_type": "code",
   "execution_count": 5,
   "metadata": {},
   "outputs": [
    {
     "name": "stdout",
     "output_type": "stream",
     "text": [
      "4\n",
      "4\n",
      "5\n",
      "4\n",
      "6\n",
      "7\n",
      "8\n",
      "[4, 5, 6, 7, 8]\n"
     ]
    }
   ],
   "source": [
    "#Q.1 Write a program to get a user input in the form of a list data type. Return a list by removing all the duplicates.\n",
    "\n",
    "#(Sol 1. :- Using loop)\n",
    "\n",
    "l=[]\n",
    "for numbers in range (0,7):\n",
    "    numbers=int(input())\n",
    "    l.append(numbers)\n",
    "\n",
    "s=set(l)\n",
    "unique_numbers=list(s)\n",
    "unique_numbers.sort()\n",
    "print(unique_numbers)"
   ]
  },
  {
   "cell_type": "code",
   "execution_count": 6,
   "metadata": {},
   "outputs": [
    {
     "name": "stdout",
     "output_type": "stream",
     "text": [
      "4,4,5,6,8,5,4\n",
      "[4, 5, 6, 8]\n"
     ]
    }
   ],
   "source": [
    "#Q.1 Write a program to get a user input in the form of a list data type. Return a list by removing all the duplicates.\n",
    "\n",
    "#(Sol 2. :- Without Using loop)\n",
    "\n",
    "numbers=input()\n",
    "l=numbers.split(\",\")\n",
    "int_list=[]\n",
    "\n",
    "# converting string elements of list into integers \n",
    "\n",
    "for ele in l:\n",
    "    int_list.append(int(ele))\n",
    "\n",
    "s=set(int_list)\n",
    "unique_numbers=list(s)\n",
    "unique_numbers.sort()\n",
    "print(unique_numbers)"
   ]
  },
  {
   "cell_type": "code",
   "execution_count": 7,
   "metadata": {},
   "outputs": [
    {
     "name": "stdout",
     "output_type": "stream",
     "text": [
      "10,12,33,87,56,11\n",
      "6\n",
      "209\n",
      "Largest  number :87\n",
      "Smallest number :10\n"
     ]
    }
   ],
   "source": [
    " ''' Q.2 Write a program to create a user defined tuple with ‘int’ data type and perform the following operations:\n",
    "          a.Find the length of tuples\n",
    "          b.Find the sum of all the elements of a tuple\n",
    "          c.Find the largest and smallest elements of a tuple'''\n",
    "\n",
    "numbers=input()\n",
    "string_list=(numbers.split(\",\"))\n",
    "int_list=[]\n",
    "\n",
    "# converting elements of list into integer\n",
    "\n",
    "for ele in string_list:\n",
    "    int_list.append(int(ele))\n",
    "    \n",
    "t=tuple(int_list)\n",
    "\n",
    "#part a\n",
    "print(len(t))\n",
    "\n",
    "#part b\n",
    "total=sum(list(t))\n",
    "print(total)\n",
    "\n",
    "#part c\n",
    "int_list.sort()\n",
    "t=tuple(int_list)\n",
    "print(\"Largest  number :\"+str(t[len(t)-1]))\n",
    "print(\"Smallest number :\"+str(t[0]))"
   ]
  },
  {
   "cell_type": "code",
   "execution_count": 8,
   "metadata": {},
   "outputs": [
    {
     "name": "stdout",
     "output_type": "stream",
     "text": [
      "Enter a number   : 13\n",
      "Enter ith bit    : 1\n",
      "Generated number : 15\n"
     ]
    }
   ],
   "source": [
    "'''Q.3 Given a number and ith bit, change the ith bit of that number to 1.'''\n",
    "\n",
    "num=int(input(\"Enter a number   : \")) \n",
    "i=int(input(\"Enter ith bit    : \")) \n",
    "magical_num = 1<<i \n",
    "print(\"Generated number : \"+str(num | magical_num))"
   ]
  },
  {
   "cell_type": "code",
   "execution_count": 9,
   "metadata": {},
   "outputs": [
    {
     "name": "stdout",
     "output_type": "stream",
     "text": [
      "Enter a number : 33\n",
      "1\n"
     ]
    }
   ],
   "source": [
    "# Q.4 Given a number, print 1 if the number is odd otherwise print 0.\n",
    "\n",
    "num=int(input(\"Enter a number : \"))\n",
    "print(num%2)"
   ]
  },
  {
   "cell_type": "code",
   "execution_count": 1,
   "metadata": {},
   "outputs": [
    {
     "name": "stdout",
     "output_type": "stream",
     "text": [
      "[1,2,3,4]\n",
      "[11,23,0,5]\n",
      "[0, 1, 2, 3, 4, 5, 11, 23]\n"
     ]
    }
   ],
   "source": [
    "''' Q.5 Given two lists of integers A and B. Write a program to merge them into a single sorted list that contains every item \n",
    "from list A and B in ascending order.'''\n",
    "\n",
    "# l1 and l2 are the given lists and l3 is the resultant merged list.\n",
    "\n",
    "l1=eval(input())\n",
    "l2=eval(input())\n",
    "l3=l1+l2\n",
    "l3.sort()\n",
    "print(l3)"
   ]
  },
  {
   "cell_type": "code",
   "execution_count": 7,
   "metadata": {},
   "outputs": [
    {
     "name": "stdout",
     "output_type": "stream",
     "text": [
      "Enter name of student[1]  : Berlin\n",
      "Enter marks of student[1] : 70\n",
      "Enter name of student[2]  : Oslo\n",
      "Enter marks of student[2] : 0\n",
      "Enter name of student[3]  : Moscow\n",
      "Enter marks of student[3] : 50\n",
      "Enter name of student[4]  : Nairobi\n",
      "Enter marks of student[4] : 100\n",
      "{'Berlin': 70, 'Oslo': 0, 'Moscow': 50, 'Nairobi': 100}\n",
      "{'Oslo': 0, 'Moscow': 50, 'Berlin': 70, 'Nairobi': 100}\n"
     ]
    }
   ],
   "source": [
    "''' Q.6 Create a user defined dictionary to store names and marks of 5 students. Sort the dictionary according to marks and \n",
    "return this sorted dictionary to the user.\n",
    "Sample Input -> {'Berlin': 70, 'Oslo':0, 'Moscow':50, 'Nairobi':100}'''\n",
    "\n",
    "student_record={}\n",
    "for i in range (0,4):\n",
    "    name= input(\"Enter name of student[{}]  : \".format(i+1))\n",
    "    marks= int(input(\"Enter marks of student[{}] : \".format(i+1)))\n",
    "    student_record[name]=marks\n",
    "    \n",
    "print(student_record)   \n",
    "\n",
    "sorted_record = sorted((value,key) for (key,value) in student_record.items())\n",
    "# print(sorted_record)\n",
    "\n",
    "# reversing the tuples which are returned by sorted()\n",
    "\n",
    "record=[ele[::-1] for ele in sorted_record]\n",
    "d_record=dict(record)\n",
    "print(d_record)"
   ]
  }
 ],
 "metadata": {
  "kernelspec": {
   "display_name": "Python 3",
   "language": "python",
   "name": "python3"
  },
  "language_info": {
   "codemirror_mode": {
    "name": "ipython",
    "version": 3
   },
   "file_extension": ".py",
   "mimetype": "text/x-python",
   "name": "python",
   "nbconvert_exporter": "python",
   "pygments_lexer": "ipython3",
   "version": "3.7.6"
  }
 },
 "nbformat": 4,
 "nbformat_minor": 4
}
