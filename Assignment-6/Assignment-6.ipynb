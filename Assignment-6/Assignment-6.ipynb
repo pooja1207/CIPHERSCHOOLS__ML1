{
 "cells": [
  {
   "cell_type": "markdown",
   "metadata": {},
   "source": [
    "# Assignment - 6"
   ]
  },
  {
   "cell_type": "markdown",
   "metadata": {},
   "source": [
    "## SMS Spam Collection"
   ]
  },
  {
   "cell_type": "markdown",
   "metadata": {},
   "source": [
    "### Introduction"
   ]
  },
  {
   "cell_type": "markdown",
   "metadata": {},
   "source": [
    "The SMS Spam Collection is a set of SMS tagged messages that have been collected for SMS Spam research. It contains one set of SMS messages in English of 5,572 messages, tagged according being ham (legitimate) or spam.\n",
    "\n",
    "The file contain one message per line. Each line is composed by the label (ham or spam) and the raw text seperated by a tab."
   ]
  },
  {
   "cell_type": "markdown",
   "metadata": {},
   "source": [
    "### Objective"
   ]
  },
  {
   "cell_type": "markdown",
   "metadata": {},
   "source": [
    "To perform the exploratory data analysis on Spam Collection Dataset and to predict whether the text ham or spam. Therefore, it is a classification problem."
   ]
  },
  {
   "cell_type": "markdown",
   "metadata": {},
   "source": [
    "## 1. Getting things ready for the project"
   ]
  },
  {
   "cell_type": "markdown",
   "metadata": {},
   "source": [
    "### 1.1 Import the required libraries"
   ]
  },
  {
   "cell_type": "code",
   "execution_count": 2,
   "metadata": {},
   "outputs": [],
   "source": [
    "import warnings\n",
    "warnings.filterwarnings('ignore')"
   ]
  },
  {
   "cell_type": "code",
   "execution_count": 3,
   "metadata": {},
   "outputs": [],
   "source": [
    "# Importing the required libraries\n",
    "\n",
    "import pandas as pd\n",
    "import numpy as np\n",
    "import seaborn as sns\n",
    "import matplotlib.pyplot as plt\n",
    "import string"
   ]
  },
  {
   "cell_type": "markdown",
   "metadata": {},
   "source": [
    "### 1.2 Load the data"
   ]
  },
  {
   "cell_type": "code",
   "execution_count": 4,
   "metadata": {},
   "outputs": [],
   "source": [
    "# Reading csv file to the pandas dataframe\n",
    "\n",
    "sms_spam_collection = pd.read_csv('SMSSpamCollection', sep=\"\\t\", names = ['Category','Text'])"
   ]
  },
  {
   "cell_type": "markdown",
   "metadata": {},
   "source": [
    "- Separated the data into two columns : Category (ham/spam) and Text while loading the data."
   ]
  },
  {
   "cell_type": "markdown",
   "metadata": {},
   "source": [
    "## 2. Perform the Exploratory Data Analysis on the data set"
   ]
  },
  {
   "cell_type": "code",
   "execution_count": 5,
   "metadata": {},
   "outputs": [
    {
     "data": {
      "text/html": [
       "<div>\n",
       "<style scoped>\n",
       "    .dataframe tbody tr th:only-of-type {\n",
       "        vertical-align: middle;\n",
       "    }\n",
       "\n",
       "    .dataframe tbody tr th {\n",
       "        vertical-align: top;\n",
       "    }\n",
       "\n",
       "    .dataframe thead th {\n",
       "        text-align: right;\n",
       "    }\n",
       "</style>\n",
       "<table border=\"1\" class=\"dataframe\">\n",
       "  <thead>\n",
       "    <tr style=\"text-align: right;\">\n",
       "      <th></th>\n",
       "      <th>Category</th>\n",
       "      <th>Text</th>\n",
       "    </tr>\n",
       "  </thead>\n",
       "  <tbody>\n",
       "    <tr>\n",
       "      <th>0</th>\n",
       "      <td>ham</td>\n",
       "      <td>Go until jurong point, crazy.. Available only ...</td>\n",
       "    </tr>\n",
       "    <tr>\n",
       "      <th>1</th>\n",
       "      <td>ham</td>\n",
       "      <td>Ok lar... Joking wif u oni...</td>\n",
       "    </tr>\n",
       "    <tr>\n",
       "      <th>2</th>\n",
       "      <td>spam</td>\n",
       "      <td>Free entry in 2 a wkly comp to win FA Cup fina...</td>\n",
       "    </tr>\n",
       "    <tr>\n",
       "      <th>3</th>\n",
       "      <td>ham</td>\n",
       "      <td>U dun say so early hor... U c already then say...</td>\n",
       "    </tr>\n",
       "    <tr>\n",
       "      <th>4</th>\n",
       "      <td>ham</td>\n",
       "      <td>Nah I don't think he goes to usf, he lives aro...</td>\n",
       "    </tr>\n",
       "  </tbody>\n",
       "</table>\n",
       "</div>"
      ],
      "text/plain": [
       "  Category                                               Text\n",
       "0      ham  Go until jurong point, crazy.. Available only ...\n",
       "1      ham                      Ok lar... Joking wif u oni...\n",
       "2     spam  Free entry in 2 a wkly comp to win FA Cup fina...\n",
       "3      ham  U dun say so early hor... U c already then say...\n",
       "4      ham  Nah I don't think he goes to usf, he lives aro..."
      ]
     },
     "execution_count": 5,
     "metadata": {},
     "output_type": "execute_result"
    }
   ],
   "source": [
    "# Shows top 5 rows of the dataset\n",
    "\n",
    "sms_spam_collection.head()"
   ]
  },
  {
   "cell_type": "code",
   "execution_count": 6,
   "metadata": {},
   "outputs": [
    {
     "name": "stdout",
     "output_type": "stream",
     "text": [
      "No. of rows    :  5572\n",
      "No. of columns :  2\n"
     ]
    }
   ],
   "source": [
    "# Tells the shape of dataframe\n",
    "\n",
    "print(\"No. of rows    : \", sms_spam_collection.shape[0])\n",
    "print(\"No. of columns : \", sms_spam_collection.shape[1])"
   ]
  },
  {
   "cell_type": "code",
   "execution_count": 7,
   "metadata": {},
   "outputs": [
    {
     "data": {
      "text/plain": [
       "Index(['Category', 'Text'], dtype='object')"
      ]
     },
     "execution_count": 7,
     "metadata": {},
     "output_type": "execute_result"
    }
   ],
   "source": [
    "# Showing the column names\n",
    "\n",
    "sms_spam_collection.columns"
   ]
  },
  {
   "cell_type": "code",
   "execution_count": 8,
   "metadata": {},
   "outputs": [
    {
     "name": "stdout",
     "output_type": "stream",
     "text": [
      "<class 'pandas.core.frame.DataFrame'>\n",
      "RangeIndex: 5572 entries, 0 to 5571\n",
      "Data columns (total 2 columns):\n",
      " #   Column    Non-Null Count  Dtype \n",
      "---  ------    --------------  ----- \n",
      " 0   Category  5572 non-null   object\n",
      " 1   Text      5572 non-null   object\n",
      "dtypes: object(2)\n",
      "memory usage: 87.2+ KB\n"
     ]
    }
   ],
   "source": [
    "sms_spam_collection.info()"
   ]
  },
  {
   "cell_type": "markdown",
   "metadata": {},
   "source": [
    "##### Observation :\n",
    "- Both the columns are of 'object' type.\n",
    "- There are no missing values."
   ]
  },
  {
   "cell_type": "code",
   "execution_count": 9,
   "metadata": {},
   "outputs": [
    {
     "data": {
      "text/plain": [
       "ham     4825\n",
       "spam     747\n",
       "Name: Category, dtype: int64"
      ]
     },
     "execution_count": 9,
     "metadata": {},
     "output_type": "execute_result"
    }
   ],
   "source": [
    "sms_spam_collection['Category'].value_counts()"
   ]
  },
  {
   "cell_type": "markdown",
   "metadata": {},
   "source": [
    "##### Observation :\n",
    "- There are 2 types of value in 'Category' column : ham and spam.\n",
    "- 4825 are ham texts and 747 are spam texts."
   ]
  },
  {
   "cell_type": "code",
   "execution_count": 10,
   "metadata": {},
   "outputs": [
    {
     "data": {
      "text/html": [
       "<div>\n",
       "<style scoped>\n",
       "    .dataframe tbody tr th:only-of-type {\n",
       "        vertical-align: middle;\n",
       "    }\n",
       "\n",
       "    .dataframe tbody tr th {\n",
       "        vertical-align: top;\n",
       "    }\n",
       "\n",
       "    .dataframe thead th {\n",
       "        text-align: right;\n",
       "    }\n",
       "</style>\n",
       "<table border=\"1\" class=\"dataframe\">\n",
       "  <thead>\n",
       "    <tr style=\"text-align: right;\">\n",
       "      <th></th>\n",
       "      <th>Category</th>\n",
       "      <th>Text</th>\n",
       "    </tr>\n",
       "  </thead>\n",
       "  <tbody>\n",
       "    <tr>\n",
       "      <th>count</th>\n",
       "      <td>5572</td>\n",
       "      <td>5572</td>\n",
       "    </tr>\n",
       "    <tr>\n",
       "      <th>unique</th>\n",
       "      <td>2</td>\n",
       "      <td>5169</td>\n",
       "    </tr>\n",
       "    <tr>\n",
       "      <th>top</th>\n",
       "      <td>ham</td>\n",
       "      <td>Sorry, I'll call later</td>\n",
       "    </tr>\n",
       "    <tr>\n",
       "      <th>freq</th>\n",
       "      <td>4825</td>\n",
       "      <td>30</td>\n",
       "    </tr>\n",
       "  </tbody>\n",
       "</table>\n",
       "</div>"
      ],
      "text/plain": [
       "       Category                    Text\n",
       "count      5572                    5572\n",
       "unique        2                    5169\n",
       "top         ham  Sorry, I'll call later\n",
       "freq       4825                      30"
      ]
     },
     "execution_count": 10,
     "metadata": {},
     "output_type": "execute_result"
    }
   ],
   "source": [
    "sms_spam_collection.describe(include = \"all\")"
   ]
  },
  {
   "cell_type": "markdown",
   "metadata": {},
   "source": [
    "##### Observation :\n",
    " 1. Category\n",
    "    - There are 2 unique values.\n",
    "    - Most frequent category is 'ham'.\n",
    "    - Frequency of 'ham' is 4825.<br><br>\n",
    "    \n",
    " 2. Text\n",
    "    - There are 5169 unique values.\n",
    "    - Most frequent text is 'Sorry, I'll call later'.\n",
    "    - This text is repeating 30 times."
   ]
  },
  {
   "cell_type": "code",
   "execution_count": 11,
   "metadata": {},
   "outputs": [
    {
     "data": {
      "text/plain": [
       "Category    0\n",
       "Text        0\n",
       "dtype: int64"
      ]
     },
     "execution_count": 11,
     "metadata": {},
     "output_type": "execute_result"
    }
   ],
   "source": [
    "sms_spam_collection.isnull().sum()"
   ]
  },
  {
   "cell_type": "markdown",
   "metadata": {},
   "source": [
    "- There is no null values."
   ]
  },
  {
   "cell_type": "markdown",
   "metadata": {},
   "source": [
    "## Plots"
   ]
  },
  {
   "cell_type": "markdown",
   "metadata": {},
   "source": [
    "### a. Count Plot And Donut Chart"
   ]
  },
  {
   "cell_type": "code",
   "execution_count": 12,
   "metadata": {},
   "outputs": [
    {
     "data": {
      "text/plain": [
       "<matplotlib.axes._subplots.AxesSubplot at 0x220f941a088>"
      ]
     },
     "execution_count": 12,
     "metadata": {},
     "output_type": "execute_result"
    },
    {
     "data": {
      "image/png": "[encoded data removed]",
      "text/plain": [
       "<Figure size 936x360 with 2 Axes>"
      ]
     },
     "metadata": {
      "needs_background": "light"
     },
     "output_type": "display_data"
    }
   ],
   "source": [
    "# Plots\n",
    "\n",
    "plt.figure(figsize = (13,5))\n",
    "plt.subplots_adjust(hspace=0.4, wspace=0.7)\n",
    "\n",
    "plt.subplot(1,2,1)\n",
    "plt.title('Count Plot',fontsize=15)\n",
    "sns.countplot(data=sms_spam_collection, x = 'Category',palette ='coolwarm')\n",
    "\n",
    "plt.subplot(1,2,2)\n",
    "plt.title('Donut Chart', fontsize=15)\n",
    "sms_spam_collection.Category.value_counts().plot(kind='pie', labels=['ham', 'spam'],\n",
    "                              wedgeprops=dict(width=.7), autopct='%1.0f%%', startangle= -20, \n",
    "                              textprops={'fontsize': 15})"
   ]
  },
  {
   "cell_type": "markdown",
   "metadata": {},
   "source": [
    "##### Observation :\n",
    "- Ham messages are more in number in compare to spam message.\n",
    "- 87% of messages are ham."
   ]
  },
  {
   "cell_type": "markdown",
   "metadata": {},
   "source": [
    "### b. Wordcloud"
   ]
  },
  {
   "cell_type": "code",
   "execution_count": 13,
   "metadata": {},
   "outputs": [],
   "source": [
    "# importing wordcloud\n",
    "\n",
    "from wordcloud import WordCloud, STOPWORDS\n",
    "from PIL import Image"
   ]
  },
  {
   "cell_type": "code",
   "execution_count": 14,
   "metadata": {},
   "outputs": [],
   "source": [
    "# words using in ham messages\n",
    "\n",
    "df_ham = sms_spam_collection.loc[sms_spam_collection['Category']=='ham', :]\n",
    "words_ham = ' '.join(df_ham['Text'])\n",
    "\n",
    "cleaned_words_ham = \" \".join([word for word in words_ham.split() if len(word)>4])   \n",
    "\n",
    "# words using in spam messages\n",
    "\n",
    "df_spam = sms_spam_collection.loc[sms_spam_collection['Category']=='spam', :]\n",
    "words_spam = ' '.join(df_spam['Text'])\n",
    "\n",
    "cleaned_words_spam = \" \".join([word for word in words_spam.split() if len(word)>3])   "
   ]
  },
  {
   "cell_type": "code",
   "execution_count": 15,
   "metadata": {},
   "outputs": [],
   "source": [
    "# Initializing wordcloud for ham words\n",
    "mask = np.array(Image.open(\"twitter_mask.png\"))\n",
    "wordcloud_ham = WordCloud(stopwords=STOPWORDS,\n",
    "                      background_color='black',\n",
    "                      colormap='Spectral',\n",
    "                      mode='RGBA',\n",
    "                      width=700,\n",
    "                      height=400,\n",
    "                      mask=mask\n",
    "                     ).generate(cleaned_words_ham)\n",
    "\n",
    "# Initializing wordcloud for spam words\n",
    "\n",
    "wordcloud_spam = WordCloud(stopwords=STOPWORDS,\n",
    "                      background_color='black',\n",
    "                      colormap='Spectral',\n",
    "                      mode='RGBA',\n",
    "                      width=700,\n",
    "                      height=400,\n",
    "                      mask=mask\n",
    "                     ).generate(cleaned_words_spam)"
   ]
  },
  {
   "cell_type": "code",
   "execution_count": 16,
   "metadata": {},
   "outputs": [
    {
     "data": {
      "image/png": "[encoded data removed]",
      "text/plain": [
       "<Figure size 1440x720 with 1 Axes>"
      ]
     },
     "metadata": {
      "needs_background": "light"
     },
     "output_type": "display_data"
    }
   ],
   "source": [
    "# Showing wordcloud of ham words\n",
    "\n",
    "plt.figure(figsize=(20,10))\n",
    "plt.imshow(wordcloud_ham)\n",
    "plt.axis('off')\n",
    "plt.show()"
   ]
  },
  {
   "cell_type": "markdown",
   "metadata": {},
   "source": [
    "##### Observation :\n",
    "- Through this wordcloud we can observe that only official messages.\n",
    "- Most common words in ham messages are thank,sorry,today,going,great,etc.\n",
    "- These words are showing that sender want to convey an information which maybe useful for the reciever."
   ]
  },
  {
   "cell_type": "code",
   "execution_count": 17,
   "metadata": {},
   "outputs": [
    {
     "data": {
      "image/png": "[encoded data removed]",
      "text/plain": [
       "<Figure size 1440x360 with 1 Axes>"
      ]
     },
     "metadata": {
      "needs_background": "light"
     },
     "output_type": "display_data"
    }
   ],
   "source": [
    "plt.figure(figsize=(20,5))\n",
    "plt.imshow(wordcloud_spam)\n",
    "plt.axis('off')\n",
    "plt.show()"
   ]
  },
  {
   "cell_type": "markdown",
   "metadata": {},
   "source": [
    "##### Observation :\n",
    "- The most frequent words in spam messages are urgent,free,call,text,reply,send,etc.\n",
    "- We can conclude a very intresting observation for spam messages : these messages have high number of spammy words like free,urgent,etc to tempt the reciever."
   ]
  },
  {
   "cell_type": "markdown",
   "metadata": {},
   "source": [
    "### c. Frequency Count Plot for spam messages"
   ]
  },
  {
   "cell_type": "code",
   "execution_count": 18,
   "metadata": {},
   "outputs": [],
   "source": [
    "def count_words(df):\n",
    "    stopwords=STOPWORDS\n",
    "    mapping = dict.fromkeys(map(ord,string.punctuation))\n",
    "    words = {}\n",
    "    for m in df['Text']:\n",
    "        try:\n",
    "            sent = m.split(' ')\n",
    "        except:\n",
    "            pass\n",
    "        for word in sent:\n",
    "            word = word.strip()\n",
    "            word = word.lower() # convert into lowercase\n",
    "            word = word.translate(mapping) # remove all punctuations\n",
    "            if word in stopwords:  # remove all stopwords\n",
    "                continue\n",
    "            if len(word) < 3 or len(word) > 9: # remove unneccessary words\n",
    "                continue\n",
    "            if word in words:\n",
    "                words[word]+=1\n",
    "            else:\n",
    "                words[word]=1\n",
    "    return words"
   ]
  },
  {
   "cell_type": "code",
   "execution_count": 19,
   "metadata": {},
   "outputs": [
    {
     "data": {
      "text/plain": [
       "<matplotlib.axes._subplots.AxesSubplot at 0x220fa938348>"
      ]
     },
     "execution_count": 19,
     "metadata": {},
     "output_type": "execute_result"
    },
    {
     "data": {
      "image/png": "[encoded data removed]",
      "text/plain": [
       "<Figure size 432x288 with 1 Axes>"
      ]
     },
     "metadata": {
      "needs_background": "light"
     },
     "output_type": "display_data"
    }
   ],
   "source": [
    "words = count_words(df_spam)\n",
    "word_df = pd.DataFrame(words.items(),columns=['words','count']) # list to dataframe\n",
    "word_df.sort_values('count',ascending=False,inplace=True) # sort according to count\n",
    "word_df[word_df['count']>50].plot(x='words',kind='bar')  # plot bar graph of important words"
   ]
  },
  {
   "cell_type": "markdown",
   "metadata": {},
   "source": [
    "##### Observation :\n",
    "- 'call' is most frequent word in spam messages.\n",
    "- Generally spam messages give temptation to the customers like 'free','prize','won',etc."
   ]
  },
  {
   "cell_type": "markdown",
   "metadata": {},
   "source": [
    "## 3. Preprocess the data"
   ]
  },
  {
   "cell_type": "markdown",
   "metadata": {},
   "source": [
    "#### Our data exploration ends up at here. The next step will be preprocess the data in order to make the learning process more smooth.\n",
    "\n",
    "##### Preprocessing steps:\n",
    "\n",
    "- Removing special characters\n",
    "- Convert sentence into lower case\n",
    "- Remove Stop Words\n",
    "- Stemming or Lemmatization"
   ]
  },
  {
   "cell_type": "code",
   "execution_count": 20,
   "metadata": {},
   "outputs": [
    {
     "name": "stderr",
     "output_type": "stream",
     "text": [
      "[nltk_data] Downloading package stopwords to\n",
      "[nltk_data]     C:\\Users\\pooja\\AppData\\Roaming\\nltk_data...\n",
      "[nltk_data]   Package stopwords is already up-to-date!\n",
      "[nltk_data] Downloading package wordnet to\n",
      "[nltk_data]     C:\\Users\\pooja\\AppData\\Roaming\\nltk_data...\n",
      "[nltk_data]   Package wordnet is already up-to-date!\n"
     ]
    },
    {
     "data": {
      "text/plain": [
       "True"
      ]
     },
     "execution_count": 20,
     "metadata": {},
     "output_type": "execute_result"
    }
   ],
   "source": [
    "import nltk\n",
    "nltk.download('stopwords')\n",
    "nltk.download('wordnet')"
   ]
  },
  {
   "cell_type": "code",
   "execution_count": 21,
   "metadata": {},
   "outputs": [],
   "source": [
    "# importing required libraries for data processing\n",
    "import re\n",
    "import nltk\n",
    "from nltk.tokenize import word_tokenize\n",
    "from nltk.corpus import stopwords\n",
    "from nltk.stem.porter import PorterStemmer\n",
    "from nltk.stem import WordNetLemmatizer"
   ]
  },
  {
   "cell_type": "code",
   "execution_count": 22,
   "metadata": {},
   "outputs": [],
   "source": [
    "# initializing the lists\n",
    "clean_text_lst = []\n",
    "text_len_lst = []"
   ]
  },
  {
   "cell_type": "code",
   "execution_count": 23,
   "metadata": {},
   "outputs": [],
   "source": [
    "def preprocess(mssg, flag):\n",
    "    # initialise the inbuilt Stemmer\n",
    "    stemmer = PorterStemmer()\n",
    "    # We can also use Lemmatizer instead of Stemmer\n",
    "    lemmatizer = WordNetLemmatizer()\n",
    "    # Removing special characters and digits\n",
    "    letters_only = re.sub(\"[^a-zA-Z]\", \" \",mssg)\n",
    "    # change sentence to lower case\n",
    "    letters_only = letters_only.lower()\n",
    "    # tokenize into words\n",
    "    words = letters_only.split()\n",
    "    # remove stop words                \n",
    "    words = [w for w in words if not w in stopwords.words(\"english\")]\n",
    "    #Stemming/Lemmatization\n",
    "    if(flag == 'stem'):\n",
    "        words = [stemmer.stem(word) for word in words]\n",
    "    else:\n",
    "        words = [lemmatizer.lemmatize(word) for word in words]\n",
    "    \n",
    "    clean_text_lst.append(\" \".join(words))\n",
    "    text_len_lst.append(len(words))"
   ]
  },
  {
   "cell_type": "code",
   "execution_count": 24,
   "metadata": {},
   "outputs": [],
   "source": [
    "# Creating a new column 'label' in which '0' represents 'spam' and '1' represents 'ham'\n",
    "sms_spam_collection['label']=sms_spam_collection['Category'].apply(lambda x: 0 if x=='spam' else 1)"
   ]
  },
  {
   "cell_type": "code",
   "execution_count": 25,
   "metadata": {},
   "outputs": [
    {
     "name": "stdout",
     "output_type": "stream",
     "text": [
      "Wall time: 25.5 s\n"
     ]
    }
   ],
   "source": [
    "%%time\n",
    "# Calling function for Lemmatization\n",
    "sms_spam_collection['Text'].apply(lambda x: preprocess(x,'lemma'))\n",
    "\n",
    "# Creating new columns of lemmatized data\n",
    "sms_spam_collection['clean_text_lemma'] = clean_text_lst # contains lemmatised message\n",
    "\n",
    "sms_spam_collection['text_len_lemma'] = text_len_lst # contains length of lemmatised message"
   ]
  },
  {
   "cell_type": "code",
   "execution_count": 26,
   "metadata": {},
   "outputs": [
    {
     "data": {
      "text/html": [
       "<div>\n",
       "<style scoped>\n",
       "    .dataframe tbody tr th:only-of-type {\n",
       "        vertical-align: middle;\n",
       "    }\n",
       "\n",
       "    .dataframe tbody tr th {\n",
       "        vertical-align: top;\n",
       "    }\n",
       "\n",
       "    .dataframe thead th {\n",
       "        text-align: right;\n",
       "    }\n",
       "</style>\n",
       "<table border=\"1\" class=\"dataframe\">\n",
       "  <thead>\n",
       "    <tr style=\"text-align: right;\">\n",
       "      <th></th>\n",
       "      <th>Category</th>\n",
       "      <th>Text</th>\n",
       "      <th>label</th>\n",
       "      <th>clean_text_lemma</th>\n",
       "      <th>text_len_lemma</th>\n",
       "    </tr>\n",
       "  </thead>\n",
       "  <tbody>\n",
       "    <tr>\n",
       "      <th>0</th>\n",
       "      <td>ham</td>\n",
       "      <td>Go until jurong point, crazy.. Available only ...</td>\n",
       "      <td>1</td>\n",
       "      <td>go jurong point crazy available bugis n great ...</td>\n",
       "      <td>16</td>\n",
       "    </tr>\n",
       "    <tr>\n",
       "      <th>1</th>\n",
       "      <td>ham</td>\n",
       "      <td>Ok lar... Joking wif u oni...</td>\n",
       "      <td>1</td>\n",
       "      <td>ok lar joking wif u oni</td>\n",
       "      <td>6</td>\n",
       "    </tr>\n",
       "    <tr>\n",
       "      <th>2</th>\n",
       "      <td>spam</td>\n",
       "      <td>Free entry in 2 a wkly comp to win FA Cup fina...</td>\n",
       "      <td>0</td>\n",
       "      <td>free entry wkly comp win fa cup final tkts st ...</td>\n",
       "      <td>21</td>\n",
       "    </tr>\n",
       "    <tr>\n",
       "      <th>3</th>\n",
       "      <td>ham</td>\n",
       "      <td>U dun say so early hor... U c already then say...</td>\n",
       "      <td>1</td>\n",
       "      <td>u dun say early hor u c already say</td>\n",
       "      <td>9</td>\n",
       "    </tr>\n",
       "    <tr>\n",
       "      <th>4</th>\n",
       "      <td>ham</td>\n",
       "      <td>Nah I don't think he goes to usf, he lives aro...</td>\n",
       "      <td>1</td>\n",
       "      <td>nah think go usf life around though</td>\n",
       "      <td>7</td>\n",
       "    </tr>\n",
       "  </tbody>\n",
       "</table>\n",
       "</div>"
      ],
      "text/plain": [
       "  Category                                               Text  label  \\\n",
       "0      ham  Go until jurong point, crazy.. Available only ...      1   \n",
       "1      ham                      Ok lar... Joking wif u oni...      1   \n",
       "2     spam  Free entry in 2 a wkly comp to win FA Cup fina...      0   \n",
       "3      ham  U dun say so early hor... U c already then say...      1   \n",
       "4      ham  Nah I don't think he goes to usf, he lives aro...      1   \n",
       "\n",
       "                                    clean_text_lemma  text_len_lemma  \n",
       "0  go jurong point crazy available bugis n great ...              16  \n",
       "1                            ok lar joking wif u oni               6  \n",
       "2  free entry wkly comp win fa cup final tkts st ...              21  \n",
       "3                u dun say early hor u c already say               9  \n",
       "4                nah think go usf life around though               7  "
      ]
     },
     "execution_count": 26,
     "metadata": {},
     "output_type": "execute_result"
    }
   ],
   "source": [
    "sms_spam_collection.head()"
   ]
  },
  {
   "cell_type": "markdown",
   "metadata": {},
   "source": [
    "## 4. Data Preparation"
   ]
  },
  {
   "cell_type": "code",
   "execution_count": 27,
   "metadata": {},
   "outputs": [],
   "source": [
    "# splitting into test and train\n",
    "\n",
    "from sklearn.model_selection  import train_test_split\n",
    "\n",
    "train, test = train_test_split(sms_spam_collection,test_size=0.2, random_state = 20)"
   ]
  },
  {
   "cell_type": "code",
   "execution_count": 28,
   "metadata": {},
   "outputs": [],
   "source": [
    "# adding clean text to train and test\n",
    "\n",
    "train_clean_text=[]\n",
    "for text in train['clean_text_lemma']:\n",
    "    train_clean_text.append(text)\n",
    "\n",
    "test_clean_text=[]\n",
    "for text in test['clean_text_lemma']:\n",
    "    test_clean_text.append(text)"
   ]
  },
  {
   "cell_type": "markdown",
   "metadata": {},
   "source": [
    "### Text to numerical vector using Bag of Words"
   ]
  },
  {
   "cell_type": "code",
   "execution_count": 29,
   "metadata": {},
   "outputs": [],
   "source": [
    "from sklearn.feature_extraction.text import CountVectorizer\n",
    "\n",
    "vectorizer = CountVectorizer(analyzer = \"word\")\n",
    "\n",
    "train_features = vectorizer.fit_transform(train_clean_text)\n",
    "\n",
    "test_features = vectorizer.transform(test_clean_text)"
   ]
  },
  {
   "cell_type": "code",
   "execution_count": 30,
   "metadata": {},
   "outputs": [
    {
     "data": {
      "text/plain": [
       "{'kent': 2882,\n",
       " 'vale': 5853,\n",
       " 'lor': 3133,\n",
       " 'wait': 5948,\n",
       " 'ar': 285,\n",
       " 'laugh': 2983,\n",
       " 'really': 4383,\n",
       " 'loud': 3149,\n",
       " 'talk': 5360,\n",
       " 'spontaneously': 5103,\n",
       " 'dont': 1521,\n",
       " 'care': 828,\n",
       " 'others': 3832,\n",
       " 'feel': 1889,\n",
       " 'probably': 4218,\n",
       " 'dear': 1316,\n",
       " 'amp': 192,\n",
       " 'best': 545,\n",
       " 'friend': 2077,\n",
       " 'goodevening': 2239,\n",
       " 'rat': 4355,\n",
       " 'hey': 2448,\n",
       " 'ever': 1758,\n",
       " 'vote': 5931,\n",
       " 'next': 3621,\n",
       " 'theme': 5468,\n",
       " 'gave': 2150,\n",
       " 'photo': 4006,\n",
       " 'registered': 4433,\n",
       " 'driving': 1560,\n",
       " 'ah': 114,\n",
       " 'tmr': 5560,\n",
       " 'wanna': 5969,\n",
       " 'meet': 3318,\n",
       " 'yck': 6254,\n",
       " 'free': 2058,\n",
       " 'msg': 3493,\n",
       " 'single': 4896,\n",
       " 'find': 1935,\n",
       " 'partner': 3918,\n",
       " 'area': 289,\n",
       " 'real': 4376,\n",
       " 'people': 3963,\n",
       " 'waiting': 5951,\n",
       " 'chat': 910,\n",
       " 'send': 4742,\n",
       " 'cncl': 1021,\n",
       " 'stopcs': 5190,\n",
       " 'per': 3964,\n",
       " 'erm': 1723,\n",
       " 'thought': 5504,\n",
       " 'contract': 1133,\n",
       " 'ran': 4347,\n",
       " 'th': 5453,\n",
       " 'october': 3737,\n",
       " 'yetunde': 6271,\n",
       " 'sorry': 5037,\n",
       " 'moji': 3440,\n",
       " 'seem': 4721,\n",
       " 'busy': 763,\n",
       " 'able': 13,\n",
       " 'go': 2219,\n",
       " 'shopping': 4832,\n",
       " 'please': 4058,\n",
       " 'way': 6004,\n",
       " 'get': 2180,\n",
       " 'wanted': 5972,\n",
       " 'forgive': 2024,\n",
       " 'reply': 4478,\n",
       " 'via': 5885,\n",
       " 'yahoo': 6243,\n",
       " 'messenger': 3349,\n",
       " 'well': 6039,\n",
       " 'boy': 663,\n",
       " 'glad': 2205,\n",
       " 'wasted': 5986,\n",
       " 'night': 3633,\n",
       " 'applebees': 265,\n",
       " 'nothing': 3685,\n",
       " 'good': 2238,\n",
       " 'afternoon': 104,\n",
       " 'sunshine': 5282,\n",
       " 'dawn': 1305,\n",
       " 'day': 1306,\n",
       " 'refreshed': 4425,\n",
       " 'happy': 2378,\n",
       " 'alive': 153,\n",
       " 'breathe': 687,\n",
       " 'air': 124,\n",
       " 'smile': 4964,\n",
       " 'think': 5486,\n",
       " 'love': 3154,\n",
       " 'always': 173,\n",
       " 'double': 1531,\n",
       " 'min': 3370,\n",
       " 'txt': 5715,\n",
       " 'price': 4197,\n",
       " 'linerental': 3066,\n",
       " 'latest': 2981,\n",
       " 'orange': 3814,\n",
       " 'bluetooth': 618,\n",
       " 'mobile': 3426,\n",
       " 'call': 789,\n",
       " 'mobileupd': 3429,\n",
       " 'offer': 3745,\n",
       " 'optout': 3812,\n",
       " 'lf': 3033,\n",
       " 'yunny': 6302,\n",
       " 'goin': 2225,\n",
       " 'late': 2977,\n",
       " 'oh': 3757,\n",
       " 'must': 3529,\n",
       " 'taken': 5356,\n",
       " 'valentine': 5854,\n",
       " 'first': 1951,\n",
       " 'sent': 4752,\n",
       " 'text': 5441,\n",
       " 'home': 2495,\n",
       " 'phone': 4003,\n",
       " 'cant': 816,\n",
       " 'display': 1476,\n",
       " 'still': 5177,\n",
       " 'want': 5971,\n",
       " 'number': 3708,\n",
       " 'yesterday': 6268,\n",
       " 'cbe': 861,\n",
       " 'kindly': 2904,\n",
       " 'one': 3782,\n",
       " 'flat': 1968,\n",
       " 'lt': 3172,\n",
       " 'decimal': 1328,\n",
       " 'gt': 2309,\n",
       " 'today': 5571,\n",
       " 'goldviking': 2231,\n",
       " 'inviting': 2715,\n",
       " 'yes': 6266,\n",
       " 'see': 4717,\n",
       " 'www': 6216,\n",
       " 'sm': 4952,\n",
       " 'ac': 23,\n",
       " 'stop': 5188,\n",
       " 'frnd': 2082,\n",
       " 'sen': 4741,\n",
       " 'kind': 2902,\n",
       " 'advice': 86,\n",
       " 'come': 1059,\n",
       " 'try': 5681,\n",
       " 'quite': 4319,\n",
       " 'lar': 2968,\n",
       " 'ard': 288,\n",
       " 'anyway': 243,\n",
       " 'wun': 6215,\n",
       " 'drivin': 1559,\n",
       " 'got': 2250,\n",
       " 'room': 4567,\n",
       " 'soon': 5028,\n",
       " 'put': 4294,\n",
       " 'clock': 1005,\n",
       " 'back': 420,\n",
       " 'til': 5535,\n",
       " 'shouted': 4844,\n",
       " 'everyone': 1763,\n",
       " 'realised': 4378,\n",
       " 'wahay': 5943,\n",
       " 'another': 220,\n",
       " 'hour': 2527,\n",
       " 'bed': 508,\n",
       " 'done': 1519,\n",
       " 'costa': 1165,\n",
       " 'del': 1350,\n",
       " 'sol': 5001,\n",
       " 'holiday': 2490,\n",
       " 'await': 395,\n",
       " 'collection': 1050,\n",
       " 'toclaim': 5570,\n",
       " 'sae': 4614,\n",
       " 'tc': 5387,\n",
       " 'pobox': 4075,\n",
       " 'stockport': 5182,\n",
       " 'sk': 4913,\n",
       " 'xh': 6224,\n",
       " 'cost': 1164,\n",
       " 'pm': 4071,\n",
       " 'max': 3292,\n",
       " 'boo': 635,\n",
       " 'babe': 413,\n",
       " 'enjoyin': 1696,\n",
       " 'yourjob': 6291,\n",
       " 'seemed': 4722,\n",
       " 'gettin': 2183,\n",
       " 'hunny': 2562,\n",
       " 'hope': 2510,\n",
       " 'ure': 5813,\n",
       " 'ok': 3762,\n",
       " 'take': 5354,\n",
       " 'llspeak': 3094,\n",
       " 'soonlots': 5030,\n",
       " 'loveme': 3158,\n",
       " 'xxxx': 6234,\n",
       " 'waqt': 5975,\n",
       " 'se': 4702,\n",
       " 'pehle': 3956,\n",
       " 'naseeb': 3560,\n",
       " 'zyada': 6320,\n",
       " 'kisi': 2908,\n",
       " 'ko': 2924,\n",
       " 'kuch': 2936,\n",
       " 'nahi': 3547,\n",
       " 'milta': 3369,\n",
       " 'zindgi': 6315,\n",
       " 'wo': 6144,\n",
       " 'jo': 2804,\n",
       " 'hum': 2554,\n",
       " 'sochte': 4994,\n",
       " 'hai': 2343,\n",
       " 'ham': 2353,\n",
       " 'jeetey': 2786,\n",
       " 'yogasana': 6281,\n",
       " 'coz': 1186,\n",
       " 'end': 1679,\n",
       " 'cine': 976,\n",
       " 'bathe': 474,\n",
       " 'hav': 2393,\n",
       " 'steam': 5162,\n",
       " 'bath': 473,\n",
       " 'de': 1311,\n",
       " 'went': 6043,\n",
       " 'shop': 4831,\n",
       " 'class': 989,\n",
       " 'early': 1604,\n",
       " 'tomorrow': 5589,\n",
       " 'thus': 5523,\n",
       " 'trying': 5683,\n",
       " 'smoke': 4969,\n",
       " 'hi': 2452,\n",
       " 'petey': 3991,\n",
       " 'noi': 3657,\n",
       " 'avent': 388,\n",
       " 'spoken': 5101,\n",
       " 'long': 3119,\n",
       " 'time': 5537,\n",
       " 'ur': 5811,\n",
       " 'doin': 1509,\n",
       " 'alrite': 166,\n",
       " 'nit': 3644,\n",
       " 'ya': 6241,\n",
       " 'house': 2528,\n",
       " 'maid': 3226,\n",
       " 'murderer': 3523,\n",
       " 'man': 3241,\n",
       " 'murdered': 3522,\n",
       " 'january': 2772,\n",
       " 'public': 4274,\n",
       " 'govt': 2260,\n",
       " 'instituitions': 2693,\n",
       " 'closed': 1008,\n",
       " 'including': 2646,\n",
       " 'post': 4122,\n",
       " 'office': 3748,\n",
       " 'understand': 5761,\n",
       " 'usual': 5837,\n",
       " 'iam': 2580,\n",
       " 'fine': 1937,\n",
       " 'yeah': 6255,\n",
       " 'fact': 1833,\n",
       " 'asked': 329,\n",
       " 'needed': 3589,\n",
       " 'anything': 240,\n",
       " 'like': 3052,\n",
       " 'ago': 112,\n",
       " 'much': 3505,\n",
       " 'lol': 3112,\n",
       " 'idea': 2597,\n",
       " 'fun': 2109,\n",
       " 'message': 3345,\n",
       " 'id': 2595,\n",
       " 'co': 1025,\n",
       " 'im': 2619,\n",
       " 'bored': 646,\n",
       " 'james': 2765,\n",
       " 'farting': 1863,\n",
       " 'impossible': 2634,\n",
       " 'argue': 295,\n",
       " 'treat': 5656,\n",
       " 'sub': 5234,\n",
       " 'never': 3610,\n",
       " 'released': 4444,\n",
       " 'remind': 4456,\n",
       " 'necessary': 3583,\n",
       " 'opening': 3798,\n",
       " 'mca': 3300,\n",
       " 'know': 2921,\n",
       " 'thing': 5485,\n",
       " 'wrong': 6202,\n",
       " 'everyso': 1765,\n",
       " 'often': 3755,\n",
       " 'panicks': 3890,\n",
       " 'start': 5142,\n",
       " 'bout': 659,\n",
       " 'bein': 528,\n",
       " 'enough': 1699,\n",
       " 'jon': 2820,\n",
       " 'pete': 3989,\n",
       " 'ive': 2749,\n",
       " 'bin': 574,\n",
       " 'spain': 5058,\n",
       " 'recently': 4400,\n",
       " 'sum': 5269,\n",
       " 'dinero': 1444,\n",
       " 'left': 3016,\n",
       " 'bill': 568,\n",
       " 'said': 4619,\n",
       " 'rent': 4466,\n",
       " 'mayb': 3296,\n",
       " 'interested': 2700,\n",
       " 'pe': 3949,\n",
       " 'around': 304,\n",
       " 'tb': 5386,\n",
       " 'dude': 1582,\n",
       " 'hw': 2574,\n",
       " 'da': 1270,\n",
       " 'realy': 4384,\n",
       " 'mising': 3394,\n",
       " 'forget': 2022,\n",
       " 'tell': 5411,\n",
       " 'need': 3587,\n",
       " 'crave': 1196,\n",
       " 'sweet': 5319,\n",
       " 'arabian': 286,\n",
       " 'steed': 5164,\n",
       " 'mmmmmm': 3418,\n",
       " 'yummy': 6300,\n",
       " 'juz': 2849,\n",
       " 'dun': 1586,\n",
       " 'wan': 5967,\n",
       " 'hee': 2423,\n",
       " 'place': 4038,\n",
       " 'town': 5625,\n",
       " 'exciting': 1784,\n",
       " 'adult': 82,\n",
       " 'uk': 5738,\n",
       " 'yet': 6269,\n",
       " 'gonna': 2236,\n",
       " 'dinner': 1447,\n",
       " 'wamma': 5966,\n",
       " 'laid': 2951,\n",
       " 'doggin': 1506,\n",
       " 'location': 3101,\n",
       " 'direct': 1452,\n",
       " 'join': 2812,\n",
       " 'largest': 2971,\n",
       " 'dogging': 1507,\n",
       " 'network': 3606,\n",
       " 'dog': 1503,\n",
       " 'nyt': 3723,\n",
       " 'ec': 1620,\n",
       " 'lp': 3169,\n",
       " 'flight': 1974,\n",
       " 'santa': 4637,\n",
       " 'calling': 797,\n",
       " 'would': 6183,\n",
       " 'little': 3085,\n",
       " 'xmas': 6226,\n",
       " 'eve': 1752,\n",
       " 'book': 637,\n",
       " 'ppm': 4144,\n",
       " 'last': 2974,\n",
       " 'santacalling': 4638,\n",
       " 'com': 1056,\n",
       " 'many': 3252,\n",
       " 'told': 5580,\n",
       " 'stage': 5131,\n",
       " 'use': 5829,\n",
       " 'listen': 3077,\n",
       " 'aha': 115,\n",
       " 'anybody': 232,\n",
       " 'tactful': 5348,\n",
       " 'ask': 327,\n",
       " 'alex': 145,\n",
       " 'atleast': 354,\n",
       " 'otherwise': 3833,\n",
       " 'miss': 3396,\n",
       " 'world': 6171,\n",
       " 'shakespeare': 4789,\n",
       " 'shesil': 4810,\n",
       " 'smiling': 4967,\n",
       " 'let': 3030,\n",
       " 'give': 2202,\n",
       " 'reason': 4385,\n",
       " 'beautiful': 499,\n",
       " 'actually': 58,\n",
       " 'pic': 4013,\n",
       " 'right': 4538,\n",
       " 'pose': 4112,\n",
       " 'comb': 1057,\n",
       " 'hair': 2345,\n",
       " 'dryer': 1574,\n",
       " 'something': 5013,\n",
       " 'keep': 2877,\n",
       " 'touch': 5620,\n",
       " 'easiest': 1609,\n",
       " 'barcelona': 452,\n",
       " 'ru': 4586,\n",
       " 'thank': 5456,\n",
       " 'baby': 414,\n",
       " 'taste': 5373,\n",
       " 'school': 4679,\n",
       " 'pls': 4064,\n",
       " 'ashley': 323,\n",
       " 'table': 5344,\n",
       " 'occupied': 3732,\n",
       " 'tree': 5660,\n",
       " 'xy': 6240,\n",
       " 'going': 2226,\n",
       " 'lunch': 3183,\n",
       " 'wat': 5988,\n",
       " 'reach': 4366,\n",
       " 'miserable': 3392,\n",
       " 'side': 4872,\n",
       " 'effect': 1639,\n",
       " 'birth': 579,\n",
       " 'control': 1135,\n",
       " 'massive': 3275,\n",
       " 'gut': 2328,\n",
       " 'wrenching': 6194,\n",
       " 'cramp': 1192,\n",
       " 'month': 3454,\n",
       " 'sleep': 4931,\n",
       " 'entry': 1710,\n",
       " 'weekly': 6029,\n",
       " 'competition': 1078,\n",
       " 'word': 6165,\n",
       " 'win': 6098,\n",
       " 'txttowin': 5723,\n",
       " 'dependent': 1372,\n",
       " 'unfortunately': 5770,\n",
       " 'found': 2039,\n",
       " 'pick': 4014,\n",
       " 'sister': 4902,\n",
       " 'airport': 125,\n",
       " 'evening': 1755,\n",
       " 'deus': 1398,\n",
       " 'ex': 1777,\n",
       " 'kinda': 2903,\n",
       " 'twelve': 5706,\n",
       " 'aah': 0,\n",
       " 'speak': 5063,\n",
       " 'tomo': 5588,\n",
       " 'guy': 2329,\n",
       " 'close': 1007,\n",
       " 'thk': 5494,\n",
       " 'shd': 4803,\n",
       " 'plus': 4068,\n",
       " 'minus': 3386,\n",
       " 'leave': 3011,\n",
       " 'line': 3063,\n",
       " 'paragraph': 3904,\n",
       " 'hon': 2497,\n",
       " 'lab': 2942,\n",
       " 'ringtone': 4544,\n",
       " 'service': 4765,\n",
       " 'changed': 894,\n",
       " 'credit': 1204,\n",
       " 'club': 1015,\n",
       " 'choose': 963,\n",
       " 'content': 1127,\n",
       " 'wk': 6131,\n",
       " 'po': 4074,\n",
       " 'box': 662,\n",
       " 'mk': 3412,\n",
       " 'wt': 6205,\n",
       " 'hear': 2414,\n",
       " 'new': 3614,\n",
       " 'divorce': 1484,\n",
       " 'barbie': 451,\n",
       " 'ken': 2881,\n",
       " 'stuff': 5225,\n",
       " 'nice': 3625,\n",
       " 'shirt': 4819,\n",
       " 'wear': 6011,\n",
       " 'nudist': 3705,\n",
       " 'themed': 5469,\n",
       " 'mu': 3504,\n",
       " 'inclusive': 2647,\n",
       " 'gotto': 2258,\n",
       " 'comuk': 1094,\n",
       " 'net': 3601,\n",
       " 'login': 3108,\n",
       " 'qxj': 4326,\n",
       " 'unsubscribe': 5795,\n",
       " 'extra': 1821,\n",
       " 'charge': 900,\n",
       " 'help': 2434,\n",
       " 'cm': 1017,\n",
       " 'ae': 90,\n",
       " 'noe': 3656,\n",
       " 'dat': 1298,\n",
       " 'sell': 4735,\n",
       " 'nope': 3671,\n",
       " 'work': 6166,\n",
       " 'small': 4954,\n",
       " 'problem': 4219,\n",
       " 'auction': 371,\n",
       " 'punj': 4281,\n",
       " 'asking': 331,\n",
       " 'tiwary': 5548,\n",
       " 'colour': 1054,\n",
       " 'light': 3049,\n",
       " 'darker': 1292,\n",
       " 'styling': 5231,\n",
       " 'run': 4599,\n",
       " 'away': 400,\n",
       " 'frm': 2081,\n",
       " 'walk': 5956,\n",
       " 'slowly': 4950,\n",
       " 'kill': 2899,\n",
       " 'opinion': 3800,\n",
       " 'jada': 2761,\n",
       " 'kusruthi': 2938,\n",
       " 'lovable': 3153,\n",
       " 'silent': 4881,\n",
       " 'spl': 5090,\n",
       " 'character': 899,\n",
       " 'matured': 3290,\n",
       " 'stylish': 5232,\n",
       " 'simple': 4886,\n",
       " 'name': 3551,\n",
       " 'address': 67,\n",
       " 'receive': 4395,\n",
       " 'week': 6027,\n",
       " 'completely': 1085,\n",
       " 'accommodation': 33,\n",
       " 'various': 5861,\n",
       " 'global': 2210,\n",
       " 'phb': 3997,\n",
       " 'ph': 3994,\n",
       " 'idc': 2596,\n",
       " 'weaseling': 6014,\n",
       " 'shit': 4820,\n",
       " 'twice': 5708,\n",
       " 'row': 4575,\n",
       " 'la': 2941,\n",
       " 'wana': 5968,\n",
       " 'pei': 3957,\n",
       " 'bf': 556,\n",
       " 'oso': 3830,\n",
       " 'rite': 4551,\n",
       " 'den': 1363,\n",
       " 'yijue': 6276,\n",
       " 'dose': 1528,\n",
       " 'tablet': 5345,\n",
       " 'fever': 1901,\n",
       " 'urgent': 5815,\n",
       " 'landline': 2958,\n",
       " 'abta': 20,\n",
       " 'complimentary': 1089,\n",
       " 'tenerife': 5423,\n",
       " 'cash': 845,\n",
       " 'cw': 1266,\n",
       " 'wx': 6217,\n",
       " 'since': 4891,\n",
       " 'ayo': 410,\n",
       " 'travelled': 5653,\n",
       " 'forgotten': 2027,\n",
       " 'alright': 165,\n",
       " 'tyler': 5725,\n",
       " 'minor': 3384,\n",
       " 'crisis': 1211,\n",
       " 'sooner': 5029,\n",
       " 'asap': 321,\n",
       " 'point': 4083,\n",
       " 'hangin': 2364,\n",
       " 'mr': 3488,\n",
       " 'makin': 3235,\n",
       " 'figure': 1919,\n",
       " 'kit': 2911,\n",
       " 'strip': 5213,\n",
       " 'billed': 569,\n",
       " 'netcollex': 3602,\n",
       " 'ltd': 3173,\n",
       " 'ig': 2607,\n",
       " 'oja': 3761,\n",
       " 'younger': 6287,\n",
       " 'make': 3233,\n",
       " 'pretty': 4192,\n",
       " 'together': 5574,\n",
       " 'didnt': 1422,\n",
       " 'goodnight': 2243,\n",
       " 'fix': 1957,\n",
       " 'ready': 4375,\n",
       " 'wake': 5952,\n",
       " 'dearly': 1318,\n",
       " 'missed': 3398,\n",
       " 'mmm': 3415,\n",
       " 'jolt': 2819,\n",
       " 'suzy': 5311,\n",
       " 'also': 167,\n",
       " 'menu': 3339,\n",
       " 'haha': 2341,\n",
       " 'awesome': 401,\n",
       " 'omw': 3778,\n",
       " 'guaranteed': 2314,\n",
       " 'prize': 4213,\n",
       " 'claim': 982,\n",
       " 'yr': 6295,\n",
       " 'customer': 1256,\n",
       " 'representative': 4481,\n",
       " 'earlier': 1602,\n",
       " 'putting': 4296,\n",
       " 'fire': 1946,\n",
       " 'life': 3042,\n",
       " 'ho': 2481,\n",
       " 'big': 564,\n",
       " 'belly': 533,\n",
       " 'dunno': 1588,\n",
       " 'oredi': 3821,\n",
       " 'fan': 1856,\n",
       " 'drive': 1557,\n",
       " 'read': 4371,\n",
       " 'write': 6195,\n",
       " 'thanks': 5457,\n",
       " 'looking': 3127,\n",
       " 'appreciate': 270,\n",
       " 'wont': 6156,\n",
       " 'disturb': 1479,\n",
       " 'avoiding': 393,\n",
       " 'burden': 752,\n",
       " 'watching': 5991,\n",
       " 'tv': 5704,\n",
       " 'jus': 2843,\n",
       " 'mrt': 3491,\n",
       " 'later': 2980,\n",
       " 'bus': 759,\n",
       " 'awarded': 399,\n",
       " 'bonus': 634,\n",
       " 'caller': 793,\n",
       " 'nd': 3575,\n",
       " 'attempt': 360,\n",
       " 'contact': 1124,\n",
       " 'qu': 4308,\n",
       " 'bt': 732,\n",
       " 'national': 3565,\n",
       " 'rate': 4356,\n",
       " 'eat': 1615,\n",
       " 'jap': 2774,\n",
       " 'aft': 103,\n",
       " 'lect': 3013,\n",
       " 'wa': 5938,\n",
       " 'openin': 3797,\n",
       " 'sentence': 4753,\n",
       " 'formal': 2030,\n",
       " 'tt': 5687,\n",
       " 'eatin': 1617,\n",
       " 'puttin': 4295,\n",
       " 'weight': 6032,\n",
       " 'anythin': 239,\n",
       " 'special': 5066,\n",
       " 'happened': 2372,\n",
       " 'minute': 3387,\n",
       " 'hello': 2431,\n",
       " 'wish': 6115,\n",
       " 'job': 2806,\n",
       " 'prospect': 4254,\n",
       " 'boytoy': 667,\n",
       " 'teasing': 5398,\n",
       " 'kiss': 2909,\n",
       " 'voicemail': 5925,\n",
       " 'ten': 5421,\n",
       " 'buck': 737,\n",
       " 'jay': 2779,\n",
       " 'noncomittal': 3664,\n",
       " 'sir': 4900,\n",
       " 'axis': 407,\n",
       " 'bank': 445,\n",
       " 'account': 38,\n",
       " 'borrow': 650,\n",
       " 'bag': 426,\n",
       " 'chinatown': 954,\n",
       " 'porridge': 4108,\n",
       " 'claypot': 992,\n",
       " 'rice': 4533,\n",
       " 'yam': 6246,\n",
       " 'cake': 783,\n",
       " 'fishhead': 1953,\n",
       " 'beehoon': 514,\n",
       " 'either': 1649,\n",
       " 'cheap': 913,\n",
       " 'cafe': 781,\n",
       " 'tok': 5577,\n",
       " 'nydc': 3722,\n",
       " 'somethin': 5012,\n",
       " 'famous': 1855,\n",
       " 'quote': 4324,\n",
       " 'develop': 1399,\n",
       " 'ability': 10,\n",
       " 'unconditionally': 5754,\n",
       " 'without': 6125,\n",
       " 'losing': 3138,\n",
       " 'temper': 5419,\n",
       " 'self': 4731,\n",
       " 'confidence': 1105,\n",
       " 'mean': 3304,\n",
       " 'married': 3268,\n",
       " 'subscriber': 5242,\n",
       " 'draw': 1546,\n",
       " 'gift': 2191,\n",
       " 'voucher': 5934,\n",
       " 'entered': 1702,\n",
       " 'receipt': 4394,\n",
       " 'correct': 1159,\n",
       " 'an': 199,\n",
       " 'elvis': 1661,\n",
       " 'presley': 4184,\n",
       " 'birthday': 581,\n",
       " 'answer': 222,\n",
       " 'cartoon': 843,\n",
       " 'listening': 3080,\n",
       " 'music': 3526,\n",
       " 'temple': 5420,\n",
       " 'church': 974,\n",
       " 'symptom': 5338,\n",
       " 'song': 5024,\n",
       " 'stopped': 5191,\n",
       " 'beloved': 537,\n",
       " 'angry': 207,\n",
       " 'huh': 2551,\n",
       " 'yoga': 6280,\n",
       " 'basic': 465,\n",
       " 'sunday': 5276,\n",
       " 'aathi': 3,\n",
       " 'lot': 3141,\n",
       " 'aight': 122,\n",
       " 'sound': 5045,\n",
       " 'plan': 4042,\n",
       " 'tonight': 5594,\n",
       " 'ducking': 1581,\n",
       " 'chinchilla': 955,\n",
       " 'bugis': 744,\n",
       " 'horrible': 2518,\n",
       " 'mac': 3201,\n",
       " 'forgot': 2026,\n",
       " 'abt': 19,\n",
       " 'already': 164,\n",
       " 'toot': 5601,\n",
       " 'prepared': 4176,\n",
       " 'shall': 4791,\n",
       " 'closer': 1009,\n",
       " 'two': 5714,\n",
       " 'trip': 5665,\n",
       " 'pray': 4161,\n",
       " 'remove': 4461,\n",
       " 'teeth': 5404,\n",
       " 'painful': 3880,\n",
       " 'maintaining': 3231,\n",
       " 'dare': 1290,\n",
       " 'change': 893,\n",
       " 'ring': 4542,\n",
       " 'yup': 6305,\n",
       " 'tat': 5374,\n",
       " 'tot': 5616,\n",
       " 'group': 2301,\n",
       " 'mate': 3281,\n",
       " 'meeting': 3320,\n",
       " 'mah': 3222,\n",
       " 'askin': 330,\n",
       " 'leaving': 3012,\n",
       " 'haf': 2340,\n",
       " 'far': 1861,\n",
       " 'maybe': 3297,\n",
       " 'glo': 2209,\n",
       " 'anytime': 242,\n",
       " 'difficulty': 1434,\n",
       " 'mine': 3376,\n",
       " 'request': 4482,\n",
       " 'geeee': 2160,\n",
       " 'woke': 6147,\n",
       " 'cuddling': 1241,\n",
       " 'tea': 5391,\n",
       " 'sure': 5298,\n",
       " 'flavour': 1970,\n",
       " 'possible': 4120,\n",
       " 'dint': 1449,\n",
       " 'thursday': 5522,\n",
       " 'donno': 1520,\n",
       " 'gene': 2165,\n",
       " 'may': 3295,\n",
       " 'pub': 4273,\n",
       " 'goodmorning': 2242,\n",
       " 'thanx': 5461,\n",
       " 'lacking': 2945,\n",
       " 'particular': 3916,\n",
       " 'dramastorm': 1543,\n",
       " 'detail': 1393,\n",
       " 'part': 3915,\n",
       " 'worried': 6173,\n",
       " 'surly': 5303,\n",
       " 'ill': 2615,\n",
       " 'coming': 1064,\n",
       " 'review': 4525,\n",
       " 'stupid': 5229,\n",
       " 'dad': 1274,\n",
       " 'called': 792,\n",
       " 'brother': 719,\n",
       " 'ha': 2336,\n",
       " 'clever': 1001,\n",
       " 'pear': 3953,\n",
       " 'perfect': 3967,\n",
       " 'christmas': 971,\n",
       " 'staying': 5156,\n",
       " 'prolly': 4237,\n",
       " 'fran': 2047,\n",
       " 'decided': 1326,\n",
       " 'broke': 713,\n",
       " 'knackered': 2915,\n",
       " 'mrw': 3492,\n",
       " 'janx': 2773,\n",
       " 'fone': 2006,\n",
       " 'morning': 3463,\n",
       " 'great': 2283,\n",
       " 'successful': 5249,\n",
       " 'uncle': 5752,\n",
       " 'atlanta': 352,\n",
       " 'semester': 4738,\n",
       " 'fancy': 1858,\n",
       " 'shag': 4785,\n",
       " 'sextextuk': 4776,\n",
       " 'xxuk': 6231,\n",
       " 'txts': 5720,\n",
       " 'tncs': 5564,\n",
       " 'website': 6019,\n",
       " 'somebody': 5006,\n",
       " 'set': 4768,\n",
       " 'play': 4050,\n",
       " 'hold': 2487,\n",
       " 'em': 1662,\n",
       " 'using': 5835,\n",
       " 'online': 3785,\n",
       " 'spacebucks': 5056,\n",
       " 'moment': 3444,\n",
       " 'value': 5857,\n",
       " 'brings': 704,\n",
       " 'faith': 1843,\n",
       " 'luv': 3187,\n",
       " 'rest': 4505,\n",
       " 'guess': 2319,\n",
       " 'isnt': 2737,\n",
       " 'bad': 423,\n",
       " 'india': 2659,\n",
       " 'level': 3032,\n",
       " 'series': 4760,\n",
       " 'record': 4408,\n",
       " 'lesson': 3029,\n",
       " 'sth': 5173,\n",
       " 'spec': 5065,\n",
       " 'membership': 3330,\n",
       " 'px': 4299,\n",
       " 'question': 4313,\n",
       " 'cute': 1260,\n",
       " 'someone': 5008,\n",
       " 'smiled': 4965,\n",
       " 'answered': 223,\n",
       " 'gudnite': 2317,\n",
       " 'chance': 892,\n",
       " 'headset': 2409,\n",
       " 'simply': 4888,\n",
       " 'adp': 78,\n",
       " 'drink': 1553,\n",
       " 'pa': 3870,\n",
       " 'sr': 5122,\n",
       " 'model': 3436,\n",
       " 'mail': 3227,\n",
       " 'thx': 5524,\n",
       " 'city': 979,\n",
       " 'break': 683,\n",
       " 'could': 1172,\n",
       " 'summer': 5272,\n",
       " 'spree': 5114,\n",
       " 'every': 1759,\n",
       " 'store': 5196,\n",
       " 'skilgme': 4915,\n",
       " 'tscs': 5685,\n",
       " 'winawk': 6100,\n",
       " 'age': 108,\n",
       " 'perwksub': 3986,\n",
       " 'twinks': 5712,\n",
       " 'bear': 497,\n",
       " 'scallies': 4670,\n",
       " 'skin': 4918,\n",
       " 'jock': 2808,\n",
       " 'weekend': 6028,\n",
       " 'nat': 3562,\n",
       " 'gym': 2332,\n",
       " 'sat': 4649,\n",
       " 'intro': 2708,\n",
       " 'pilate': 4024,\n",
       " 'kickboxing': 2894,\n",
       " 'raining': 4336,\n",
       " 'hard': 2379,\n",
       " 'orchard': 3816,\n",
       " 'wonder': 6153,\n",
       " 'style': 5230,\n",
       " 'personality': 3981,\n",
       " 'rd': 4365,\n",
       " 'nature': 3568,\n",
       " 'st': 5126,\n",
       " 'lovely': 3157,\n",
       " 'friendship': 2079,\n",
       " 'enter': 1701,\n",
       " 'replying': 4479,\n",
       " 'gas': 2144,\n",
       " 'station': 5151,\n",
       " 'idk': 2602,\n",
       " 'sitting': 4908,\n",
       " 'parking': 3914,\n",
       " 'bawling': 480,\n",
       " 'eye': 1824,\n",
       " 'failure': 1841,\n",
       " 'everything': 1766,\n",
       " 'nobody': 3655,\n",
       " 'failing': 1839,\n",
       " 'mark': 3261,\n",
       " 'taking': 5358,\n",
       " 'forever': 2020,\n",
       " 'prescription': 4181,\n",
       " 'pain': 3879,\n",
       " 'cann': 813,\n",
       " 'voice': 5924,\n",
       " 'asa': 320,\n",
       " 'mood': 3457,\n",
       " 'hospital': 2520,\n",
       " 'return': 4518,\n",
       " 'story': 5198,\n",
       " 'returned': 4519,\n",
       " 'saying': 4668,\n",
       " 'order': 3817,\n",
       " 'darlin': 1294,\n",
       " 'kate': 2869,\n",
       " 'swan': 5313,\n",
       " 'parent': 3909,\n",
       " 'finishing': 1943,\n",
       " 'sony': 5025,\n",
       " 'ericsson': 1722,\n",
       " 'salesman': 4625,\n",
       " 'shuhui': 4863,\n",
       " 'say': 4665,\n",
       " 'gd': 2156,\n",
       " 'considering': 1119,\n",
       " 'outbid': 3841,\n",
       " 'simonwatson': 4885,\n",
       " 'shinco': 4813,\n",
       " 'dvd': 1594,\n",
       " 'plyr': 4069,\n",
       " 'bid': 563,\n",
       " 'visit': 5914,\n",
       " 'smsrewards': 4976,\n",
       " 'notification': 3687,\n",
       " 'year': 6256,\n",
       " 'south': 5050,\n",
       " 'african': 102,\n",
       " 'soil': 4999,\n",
       " 'rodger': 4559,\n",
       " 'burn': 756,\n",
       " 'tried': 5664,\n",
       " 'nokia': 3661,\n",
       " 'camcorder': 800,\n",
       " 'delivery': 1360,\n",
       " 'college': 1052,\n",
       " 'wen': 6041,\n",
       " 'mt': 3498,\n",
       " 'xx': 6230,\n",
       " 'available': 383,\n",
       " 'priya': 4212,\n",
       " 'doctor': 1498,\n",
       " 'page': 3876,\n",
       " 'add': 61,\n",
       " 'url': 5821,\n",
       " 'hmm': 2476,\n",
       " 'leh': 3021,\n",
       " 'goigng': 2224,\n",
       " 'except': 1782,\n",
       " 'perfume': 3970,\n",
       " 'smth': 4978,\n",
       " 'rubber': 4588,\n",
       " 'better': 549,\n",
       " 'swing': 5327,\n",
       " 'missing': 3400,\n",
       " 'lazy': 2993,\n",
       " 'bleak': 598,\n",
       " 'hmmm': 2477,\n",
       " 'filled': 1924,\n",
       " 'obey': 3728,\n",
       " 'poem': 4082,\n",
       " 'near': 3577,\n",
       " 'fear': 1881,\n",
       " 'live': 3086,\n",
       " 'cheer': 925,\n",
       " 'tear': 5396,\n",
       " 'gud': 2316,\n",
       " 'ni': 3623,\n",
       " 'moby': 3433,\n",
       " ...}"
      ]
     },
     "execution_count": 30,
     "metadata": {},
     "output_type": "execute_result"
    }
   ],
   "source": [
    "# Cleaned words vocabulary\n",
    "\n",
    "vectorizer.vocabulary_"
   ]
  },
  {
   "cell_type": "code",
   "execution_count": 31,
   "metadata": {},
   "outputs": [
    {
     "name": "stdout",
     "output_type": "stream",
     "text": [
      "Total unique words: 6321\n",
      "Type of train_features: <class 'scipy.sparse.csr.csr_matrix'>\n",
      "Shape of input data (4457, 6321)\n"
     ]
    }
   ],
   "source": [
    "print(\"Total unique words:\", len(vectorizer.vocabulary_))\n",
    "\n",
    "print(\"Type of train_features:\", type(train_features))\n",
    "\n",
    "print(\"Shape of input data\", train_features.shape)"
   ]
  },
  {
   "cell_type": "markdown",
   "metadata": {},
   "source": [
    "##### Observation :\n",
    "- There are 5636 unique words.\n",
    "- Type of train_feature is 'Sparse Matrix'.\n",
    "- Shape of input vectorized data has 4457 rows and 5636 columns."
   ]
  },
  {
   "cell_type": "markdown",
   "metadata": {},
   "source": [
    "## 5. Data Modelling"
   ]
  },
  {
   "cell_type": "code",
   "execution_count": 32,
   "metadata": {},
   "outputs": [],
   "source": [
    "# importing libraries required for data modelling\n",
    "\n",
    "from sklearn.linear_model import LogisticRegression\n",
    "from sklearn.tree import DecisionTreeClassifier\n",
    "from sklearn.svm import SVC\n",
    "from sklearn import metrics "
   ]
  },
  {
   "cell_type": "markdown",
   "metadata": {},
   "source": [
    "### 5.1 Train the Model"
   ]
  },
  {
   "cell_type": "code",
   "execution_count": 33,
   "metadata": {},
   "outputs": [],
   "source": [
    "# Creating a list of all algorithm\n",
    "\n",
    "Classifiers = [\n",
    "    LogisticRegression(),\n",
    "    DecisionTreeClassifier(),\n",
    "    SVC()]"
   ]
  },
  {
   "cell_type": "code",
   "execution_count": 34,
   "metadata": {},
   "outputs": [
    {
     "name": "stdout",
     "output_type": "stream",
     "text": [
      "Wall time: 70.1 ms\n"
     ]
    }
   ],
   "source": [
    "%%time\n",
    "\n",
    "dense_features = train_features.toarray()\n",
    "\n",
    "dense_test = test_features.toarray()\n"
   ]
  },
  {
   "cell_type": "markdown",
   "metadata": {},
   "source": [
    "### 5.2 Model Evaluation"
   ]
  },
  {
   "cell_type": "code",
   "execution_count": 35,
   "metadata": {},
   "outputs": [],
   "source": [
    "from tqdm import tqdm, tqdm_notebook\n",
    "\n",
    "tqdm.pandas()"
   ]
  },
  {
   "cell_type": "code",
   "execution_count": 36,
   "metadata": {},
   "outputs": [
    {
     "name": "stderr",
     "output_type": "stream",
     "text": [
      "\r",
      "  0%|                                                                                            | 0/3 [00:00<?, ?it/s]"
     ]
    },
    {
     "name": "stdout",
     "output_type": "stream",
     "text": [
      "\n",
      "\n",
      "****************************************LogisticRegression****************************************\n",
      "\n",
      "\n",
      "Accuracy of LogisticRegression  : 0.9766816143497757\n",
      "Precision of LogisticRegression : 0.9947478991596639\n",
      "Recall of LogisticRegression    : 0.9783057851239669\n",
      "\n",
      "\b Confusion Matrix of LogisticRegression\n",
      "\n",
      "[[142   5]\n",
      " [ 21 947]]\n",
      "\n",
      "\b Heat Map for confusion matrix\n",
      "\n"
     ]
    },
    {
     "data": {
      "image/png": "[encoded data removed]",
      "text/plain": [
       "<Figure size 432x288 with 2 Axes>"
      ]
     },
     "metadata": {
      "needs_background": "light"
     },
     "output_type": "display_data"
    },
    {
     "name": "stderr",
     "output_type": "stream",
     "text": [
      "\r",
      " 33%|████████████████████████████                                                        | 1/3 [00:01<00:02,  1.49s/it]"
     ]
    },
    {
     "name": "stdout",
     "output_type": "stream",
     "text": [
      "\n",
      "\b Classification Report of LogisticRegression\n",
      "\n",
      "              precision    recall  f1-score   support\n",
      "\n",
      "           0       0.87      0.97      0.92       147\n",
      "           1       0.99      0.98      0.99       968\n",
      "\n",
      "    accuracy                           0.98      1115\n",
      "   macro avg       0.93      0.97      0.95      1115\n",
      "weighted avg       0.98      0.98      0.98      1115\n",
      "\n",
      "\n",
      "\n",
      "****************************************DecisionTreeClassifier****************************************\n",
      "\n",
      "\n",
      "Accuracy of DecisionTreeClassifier  : 0.9739910313901345\n",
      "Precision of DecisionTreeClassifier : 0.9873949579831933\n",
      "Recall of DecisionTreeClassifier    : 0.9822361546499477\n",
      "\n",
      "\b Confusion Matrix of DecisionTreeClassifier\n",
      "\n",
      "[[146  12]\n",
      " [ 17 940]]\n",
      "\n",
      "\b Heat Map for confusion matrix\n",
      "\n"
     ]
    },
    {
     "data": {
      "image/png": "[encoded data removed]",
      "text/plain": [
       "<Figure size 432x288 with 2 Axes>"
      ]
     },
     "metadata": {
      "needs_background": "light"
     },
     "output_type": "display_data"
    },
    {
     "name": "stderr",
     "output_type": "stream",
     "text": [
      "\r",
      " 67%|████████████████████████████████████████████████████████                            | 2/3 [00:18<00:06,  6.19s/it]"
     ]
    },
    {
     "name": "stdout",
     "output_type": "stream",
     "text": [
      "\n",
      "\b Classification Report of DecisionTreeClassifier\n",
      "\n",
      "              precision    recall  f1-score   support\n",
      "\n",
      "           0       0.90      0.92      0.91       158\n",
      "           1       0.99      0.98      0.98       957\n",
      "\n",
      "    accuracy                           0.97      1115\n",
      "   macro avg       0.94      0.95      0.95      1115\n",
      "weighted avg       0.97      0.97      0.97      1115\n",
      "\n",
      "\n",
      "\n",
      "****************************************SVC****************************************\n",
      "\n",
      "\n",
      "Accuracy of SVC  : 0.9730941704035875\n",
      "Precision of SVC : 0.9947478991596639\n",
      "Recall of SVC    : 0.9742798353909465\n",
      "\n",
      "\b Confusion Matrix of SVC\n",
      "\n",
      "[[138   5]\n",
      " [ 25 947]]\n",
      "\n",
      "\b Heat Map for confusion matrix\n",
      "\n"
     ]
    },
    {
     "data": {
      "image/png": "[encoded data removed]",
      "text/plain": [
       "<Figure size 432x288 with 2 Axes>"
      ]
     },
     "metadata": {
      "needs_background": "light"
     },
     "output_type": "display_data"
    },
    {
     "name": "stderr",
     "output_type": "stream",
     "text": [
      "100%|████████████████████████████████████████████████████████████████████████████████████| 3/3 [01:32<00:00, 30.84s/it]"
     ]
    },
    {
     "name": "stdout",
     "output_type": "stream",
     "text": [
      "\n",
      "\b Classification Report of SVC\n",
      "\n",
      "              precision    recall  f1-score   support\n",
      "\n",
      "           0       0.85      0.97      0.90       143\n",
      "           1       0.99      0.97      0.98       972\n",
      "\n",
      "    accuracy                           0.97      1115\n",
      "   macro avg       0.92      0.97      0.94      1115\n",
      "weighted avg       0.98      0.97      0.97      1115\n",
      "\n"
     ]
    },
    {
     "name": "stderr",
     "output_type": "stream",
     "text": [
      "\n"
     ]
    }
   ],
   "source": [
    "for classifier in tqdm(Classifiers):\n",
    "    print('\\n')\n",
    "    print(40*'*'+classifier.__class__.__name__+40*'*')\n",
    "    print('\\n')\n",
    "    \n",
    "    # Prediction\n",
    "    fit = classifier.fit(dense_features,train['label'])\n",
    "    pred = fit.predict(dense_test)\n",
    "    \n",
    "    # Accuracy,Precision and Recall\n",
    "    accuracy = metrics.accuracy_score(pred,test['label'])\n",
    "    precision = metrics.precision_score(pred,test['label'])\n",
    "    recall = metrics.recall_score(pred,test['label'])\n",
    "    print('Accuracy of '+classifier.__class__.__name__+'  : '+str(accuracy))\n",
    "    print('Precision of '+classifier.__class__.__name__+' : '+str(precision))\n",
    "    print('Recall of '+classifier.__class__.__name__+'    : '+str(recall))\n",
    "    \n",
    "    # Confusion Matrix\n",
    "    print(\"\\n\\b Confusion Matrix of \"+classifier.__class__.__name__+'\\n')\n",
    "    con_metric = metrics.confusion_matrix(pred,test['label'])\n",
    "    print(con_metric)\n",
    "    \n",
    "    # Heat Map for confusion matrix\n",
    "    print(\"\\n\\b Heat Map for confusion matrix\\n\")\n",
    "    sns.heatmap(con_metric, annot=True, fmt='d')\n",
    "    plt.title(\"Confusion Matrix\")\n",
    "    plt.show()\n",
    "    \n",
    "    # Classification Report\n",
    "    print(\"\\n\\b Classification Report of \"+classifier.__class__.__name__+\"\\n\")\n",
    "    print(metrics.classification_report(pred,test['label']))\n"
   ]
  },
  {
   "cell_type": "markdown",
   "metadata": {},
   "source": [
    "##### Observation :\n",
    "- In terms of accuracy\n",
    " - Accuracy of Logistic Regression   : 0.98\n",
    " - Accuracy of Decision Tree         : 0.97\n",
    " - Accuracy of SVC                   : 0.97\n",
    "<br><br>\n",
    "- In terms of time\n",
    " - Time taken by Logistic Regression :  1.41s\n",
    " - Time taken by Decision Tree       :  5.36s\n",
    " - Time taken by SVC                 : 25.47s \n",
    "\n",
    "###### Therefore, we can say that logistic regression is the best predicting model among them."
   ]
  },
  {
   "cell_type": "markdown",
   "metadata": {},
   "source": [
    "## 6. Saving the Model and Vectorizer in Pickle"
   ]
  },
  {
   "cell_type": "code",
   "execution_count": 37,
   "metadata": {},
   "outputs": [
    {
     "data": {
      "text/plain": [
       "LogisticRegression(C=1.0, class_weight=None, dual=False, fit_intercept=True,\n",
       "                   intercept_scaling=1, l1_ratio=None, max_iter=100,\n",
       "                   multi_class='auto', n_jobs=None, penalty='l2',\n",
       "                   random_state=None, solver='lbfgs', tol=0.0001, verbose=0,\n",
       "                   warm_start=False)"
      ]
     },
     "execution_count": 37,
     "metadata": {},
     "output_type": "execute_result"
    }
   ],
   "source": [
    "dense_features = train_features.toarray()\n",
    "\n",
    "model = LogisticRegression()\n",
    "\n",
    "model.fit(dense_features,train['label'])"
   ]
  },
  {
   "cell_type": "code",
   "execution_count": 38,
   "metadata": {},
   "outputs": [],
   "source": [
    "from pickle import dump\n",
    "\n",
    "dump(vectorizer, open('pickle/countvectorizer.pkl', 'wb'))\n",
    "\n",
    "dump(model, open('pickle/logit_model.pkl', 'wb'))"
   ]
  },
  {
   "cell_type": "markdown",
   "metadata": {},
   "source": [
    "## 7. Prediction on Future Data Points"
   ]
  },
  {
   "cell_type": "code",
   "execution_count": 39,
   "metadata": {},
   "outputs": [],
   "source": [
    "from pickle import load"
   ]
  },
  {
   "cell_type": "code",
   "execution_count": 40,
   "metadata": {},
   "outputs": [],
   "source": [
    "from sklearn.linear_model import LogisticRegression\n",
    "from sklearn.feature_extraction.text import CountVectorizer\n",
    "import re\n",
    "import nltk\n",
    "from nltk.tokenize import word_tokenize\n",
    "from nltk.corpus import stopwords\n",
    "from nltk.stem.porter import PorterStemmer\n",
    "from nltk.stem import WordNetLemmatizer"
   ]
  },
  {
   "cell_type": "code",
   "execution_count": 41,
   "metadata": {},
   "outputs": [],
   "source": [
    "def preprocess(mssg):\n",
    "    # Removing special characters and digits\n",
    "    letters_only = re.sub(\"[^a-zA-Z]\", \" \",mssg)\n",
    "    \n",
    "    # change sentence to lower case\n",
    "    letters_only = letters_only.lower()\n",
    "\n",
    "    # tokenize into words\n",
    "    words = letters_only.split()\n",
    "    \n",
    "    # remove stop words                \n",
    "    words = [w for w in words if not w in stopwords.words(\"english\")]\n",
    "    \n",
    "    # lemmatization\n",
    "    lemmatizer = WordNetLemmatizer()\n",
    "    words = [lemmatizer.lemmatize(word) for word in words]\n",
    "    \n",
    "    clean_sent = \" \".join(words)\n",
    "    \n",
    "    return clean_sent"
   ]
  },
  {
   "cell_type": "code",
   "execution_count": 42,
   "metadata": {},
   "outputs": [],
   "source": [
    "def predict(mssg):\n",
    "    \n",
    "    # Loading pretrained CountVectorizer from pickle file\n",
    "    vectorizer = load(open('pickle/countvectorizer.pkl', 'rb'))\n",
    "    \n",
    "    # Loading pretrained logistic classifier from pickle file\n",
    "    classifier = load(open('pickle/logit_model.pkl', 'rb'))\n",
    "    \n",
    "    # Preprocessing the tweet\n",
    "    clean_text = preprocess(mssg)\n",
    "    \n",
    "    # Converting text to numerical vector\n",
    "    clean_text_encoded = vectorizer.transform([clean_text])\n",
    "    \n",
    "    # Converting sparse matrix to dense matrix\n",
    "    text_input = clean_text_encoded.toarray()\n",
    "    \n",
    "    # Prediction\n",
    "    prediction = classifier.predict(text_input)\n",
    "    \n",
    "    return prediction"
   ]
  },
  {
   "cell_type": "code",
   "execution_count": 50,
   "metadata": {},
   "outputs": [
    {
     "name": "stdout",
     "output_type": "stream",
     "text": [
      "Enter a mssg to check whether it is spam or not: sorry talk later good no will\n",
      "[1]\n",
      "Ham Message\n"
     ]
    }
   ],
   "source": [
    "mssg = input(\"Enter a mssg to check whether it is spam or not: \")\n",
    "\n",
    "prediction = predict(mssg)\n",
    "print(prediction)\n",
    "if(prediction == 0):\n",
    "    print(\"Spam Message\")\n",
    "else:\n",
    "    print(\"Ham Message\")"
   ]
  },
  {
   "cell_type": "markdown",
   "metadata": {},
   "source": [
    "### Resources :\n",
    "- ML class notes - By Kanav Bansal refer :- https://github.com/bansalkanav/PYTHON_ML_DS\n",
    "- Geeks For Geeks refer :- https://www.geeksforgeeks.org/\n",
    "- Stack Overflow\n",
    "- Python Documentation"
   ]
  },
  {
   "cell_type": "code",
   "execution_count": 44,
   "metadata": {},
   "outputs": [
    {
     "name": "stdout",
     "output_type": "stream",
     "text": [
      "*********************************************Thank You*********************************************\n"
     ]
    }
   ],
   "source": [
    "print(45*'*'+\"Thank You\"+45*'*')"
   ]
  },
  {
   "cell_type": "code",
   "execution_count": null,
   "metadata": {},
   "outputs": [],
   "source": []
  },
  {
   "cell_type": "code",
   "execution_count": null,
   "metadata": {},
   "outputs": [],
   "source": []
  },
  {
   "cell_type": "code",
   "execution_count": null,
   "metadata": {},
   "outputs": [],
   "source": []
  }
 ],
 "metadata": {
  "kernelspec": {
   "display_name": "Python 3",
   "language": "python",
   "name": "python3"
  },
  "language_info": {
   "codemirror_mode": {
    "name": "ipython",
    "version": 3
   },
   "file_extension": ".py",
   "mimetype": "text/x-python",
   "name": "python",
   "nbconvert_exporter": "python",
   "pygments_lexer": "ipython3",
   "version": "3.7.6"
  }
 },
 "nbformat": 4,
 "nbformat_minor": 4
}
